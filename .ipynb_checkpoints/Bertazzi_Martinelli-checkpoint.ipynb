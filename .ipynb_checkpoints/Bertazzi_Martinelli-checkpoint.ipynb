{
 "cells": [
  {
   "cell_type": "code",
   "execution_count": null,
   "id": "7928a692",
   "metadata": {},
   "outputs": [],
   "source": [
    "#Import all packages\n",
    "\n",
    "import os, sys\n",
    "import sys\n",
    "import numpy as np\n",
    "from scipy import signal\n",
    "from matplotlib import pyplot as plt\n",
    "import matplotlib.image as mpimg\n",
    "import librosa\n",
    "import IPython.display as ipd\n",
    "%matplotlib inline\n"
   ]
  },
  {
   "cell_type": "code",
   "execution_count": 1,
   "id": "e9a91fa5",
   "metadata": {},
   "outputs": [],
   "source": [
    "#Question 1\n",
    "\n",
    "'''Implement the template based chord recognition algorithm. Define a function that takes as input the\n",
    "path to a wav file and returns the estimated chords sequence labels.\n",
    "The output must be a list\n",
    "\n",
    "λ_pred = [λ_pred0, λpred_1, ..., λpred_N−1] (1)\n",
    "\n",
    "where each element λpred_n is the predicted chord label for the time frame n. \n",
    "The length of the list depends on the feature rate, i.e., both on the window length and hop size used for the chromagram \n",
    "computation and on the downsampling factor, if feature downsampling is applied.\n",
    "\n",
    "The chord templates to be considered are the major triads and the minor triads, leading to a total of 24 templates.\n",
    "Once the function is defined in the notebook, test the function on the wav file Beatles LetItBe.wav,\n",
    "available in /data/wav/ folder, and print or plot the output.\n",
    "\n",
    "Explain in the report the idea behind the template-based chord recognition algorithm and detail each\n",
    "step implemented in the code, including pre processing and post processing phases.\n",
    "'''"
   ]
  },
  {
   "cell_type": "code",
   "execution_count": null,
   "id": "e07b4911",
   "metadata": {},
   "outputs": [],
   "source": [
    "#Question 2"
   ]
  },
  {
   "cell_type": "code",
   "execution_count": null,
   "id": "73705915",
   "metadata": {},
   "outputs": [],
   "source": [
    "#Question 3"
   ]
  },
  {
   "cell_type": "code",
   "execution_count": null,
   "id": "d0b7f89e",
   "metadata": {},
   "outputs": [],
   "source": [
    "#Question 4"
   ]
  },
  {
   "cell_type": "code",
   "execution_count": null,
   "id": "00601aa1",
   "metadata": {},
   "outputs": [],
   "source": [
    "#Question 5"
   ]
  }
 ],
 "metadata": {
  "kernelspec": {
   "display_name": "Python 3 (ipykernel)",
   "language": "python",
   "name": "python3"
  },
  "language_info": {
   "codemirror_mode": {
    "name": "ipython",
    "version": 3
   },
   "file_extension": ".py",
   "mimetype": "text/x-python",
   "name": "python",
   "nbconvert_exporter": "python",
   "pygments_lexer": "ipython3",
   "version": "3.8.12"
  }
 },
 "nbformat": 4,
 "nbformat_minor": 5
}
